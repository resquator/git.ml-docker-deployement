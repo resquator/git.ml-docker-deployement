{
 "cells": [
  {
   "cell_type": "markdown",
   "id": "c2bcd0ef-23cf-471c-a15e-613f07bbb25a",
   "metadata": {},
   "source": [
    "# Model Deployement\n",
    "\n",
    "This Notebook preapre and deploy a docker image in AWS.\n",
    "\n",
    "## Model\n",
    "The model is a simple linear regression based on fake data abour salary.\n",
    "Source comes from mockaroo.com\n",
    "\n",
    "#\n",
    "Prepare and train a model for a docker installation"
   ]
  },
  {
   "cell_type": "code",
   "execution_count": 1,
   "id": "3a2e242c-840c-48a7-b6d1-4bac3d2614bd",
   "metadata": {},
   "outputs": [],
   "source": [
    "# import some libraries\n",
    "import pandas as pd\n",
    "import numpy as np"
   ]
  },
  {
   "cell_type": "code",
   "execution_count": 2,
   "id": "bcb5d1f7-f297-4926-a96b-044b0004f75b",
   "metadata": {},
   "outputs": [
    {
     "data": {
      "text/plain": [
       "(1000, 8)"
      ]
     },
     "execution_count": 2,
     "metadata": {},
     "output_type": "execute_result"
    }
   ],
   "source": [
    "# load the dataset\n",
    "data = pd.read_csv('data/salary.csv')\n",
    "data.shape"
   ]
  },
  {
   "cell_type": "code",
   "execution_count": 3,
   "id": "b4d86b1c-6ee4-4d20-87b6-352c3b84a3ea",
   "metadata": {},
   "outputs": [
    {
     "data": {
      "text/html": [
       "<div>\n",
       "<style scoped>\n",
       "    .dataframe tbody tr th:only-of-type {\n",
       "        vertical-align: middle;\n",
       "    }\n",
       "\n",
       "    .dataframe tbody tr th {\n",
       "        vertical-align: top;\n",
       "    }\n",
       "\n",
       "    .dataframe thead th {\n",
       "        text-align: right;\n",
       "    }\n",
       "</style>\n",
       "<table border=\"1\" class=\"dataframe\">\n",
       "  <thead>\n",
       "    <tr style=\"text-align: right;\">\n",
       "      <th></th>\n",
       "      <th>id</th>\n",
       "      <th>title</th>\n",
       "      <th>first_name</th>\n",
       "      <th>last_name</th>\n",
       "      <th>birthdate</th>\n",
       "      <th>level_school</th>\n",
       "      <th>graduated</th>\n",
       "      <th>salary</th>\n",
       "    </tr>\n",
       "  </thead>\n",
       "  <tbody>\n",
       "    <tr>\n",
       "      <th>145</th>\n",
       "      <td>146</td>\n",
       "      <td>Dr</td>\n",
       "      <td>Alyda</td>\n",
       "      <td>Grocutt</td>\n",
       "      <td>5/16/1964</td>\n",
       "      <td>6</td>\n",
       "      <td>False</td>\n",
       "      <td>13484.16</td>\n",
       "    </tr>\n",
       "    <tr>\n",
       "      <th>698</th>\n",
       "      <td>699</td>\n",
       "      <td>Mr</td>\n",
       "      <td>Revkah</td>\n",
       "      <td>Yurocjhin</td>\n",
       "      <td>4/16/1987</td>\n",
       "      <td>2</td>\n",
       "      <td>False</td>\n",
       "      <td>12224.16</td>\n",
       "    </tr>\n",
       "    <tr>\n",
       "      <th>42</th>\n",
       "      <td>43</td>\n",
       "      <td>Dr</td>\n",
       "      <td>Nadiya</td>\n",
       "      <td>Teas</td>\n",
       "      <td>10/18/1968</td>\n",
       "      <td>4</td>\n",
       "      <td>True</td>\n",
       "      <td>22996.60</td>\n",
       "    </tr>\n",
       "    <tr>\n",
       "      <th>436</th>\n",
       "      <td>437</td>\n",
       "      <td>Dr</td>\n",
       "      <td>Sibeal</td>\n",
       "      <td>Cromett</td>\n",
       "      <td>4/16/1961</td>\n",
       "      <td>4</td>\n",
       "      <td>False</td>\n",
       "      <td>14495.04</td>\n",
       "    </tr>\n",
       "  </tbody>\n",
       "</table>\n",
       "</div>"
      ],
      "text/plain": [
       "      id title first_name  last_name   birthdate  level_school  graduated  \\\n",
       "145  146    Dr      Alyda    Grocutt   5/16/1964             6      False   \n",
       "698  699    Mr     Revkah  Yurocjhin   4/16/1987             2      False   \n",
       "42    43    Dr     Nadiya       Teas  10/18/1968             4       True   \n",
       "436  437    Dr     Sibeal    Cromett   4/16/1961             4      False   \n",
       "\n",
       "       salary  \n",
       "145  13484.16  \n",
       "698  12224.16  \n",
       "42   22996.60  \n",
       "436  14495.04  "
      ]
     },
     "execution_count": 3,
     "metadata": {},
     "output_type": "execute_result"
    }
   ],
   "source": [
    "data.sample(4)"
   ]
  },
  {
   "cell_type": "code",
   "execution_count": null,
   "id": "60c05b49-a06e-4123-9b5c-9dda16c29a6c",
   "metadata": {},
   "outputs": [],
   "source": []
  }
 ],
 "metadata": {
  "kernelspec": {
   "display_name": "Python 3 (ipykernel)",
   "language": "python",
   "name": "python3"
  },
  "language_info": {
   "codemirror_mode": {
    "name": "ipython",
    "version": 3
   },
   "file_extension": ".py",
   "mimetype": "text/x-python",
   "name": "python",
   "nbconvert_exporter": "python",
   "pygments_lexer": "ipython3",
   "version": "3.9.7"
  }
 },
 "nbformat": 4,
 "nbformat_minor": 5
}
