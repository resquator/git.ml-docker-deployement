{
 "cells": [
  {
   "cell_type": "markdown",
   "id": "c2bcd0ef-23cf-471c-a15e-613f07bbb25a",
   "metadata": {},
   "source": [
    "Prepare and train a model for a docker installation"
   ]
  },
  {
   "cell_type": "code",
   "execution_count": null,
   "id": "3a2e242c-840c-48a7-b6d1-4bac3d2614bd",
   "metadata": {},
   "outputs": [],
   "source": []
  }
 ],
 "metadata": {
  "kernelspec": {
   "display_name": "Python 3 (ipykernel)",
   "language": "python",
   "name": "python3"
  },
  "language_info": {
   "codemirror_mode": {
    "name": "ipython",
    "version": 3
   },
   "file_extension": ".py",
   "mimetype": "text/x-python",
   "name": "python",
   "nbconvert_exporter": "python",
   "pygments_lexer": "ipython3",
   "version": "3.9.7"
  }
 },
 "nbformat": 4,
 "nbformat_minor": 5
}
